{
  "nbformat": 4,
  "nbformat_minor": 0,
  "metadata": {
    "colab": {
      "name": "FML_Ch2Ex.ipynb",
      "version": "0.3.2",
      "provenance": [],
      "toc_visible": true,
      "include_colab_link": true
    },
    "kernelspec": {
      "name": "python3",
      "display_name": "Python 3"
    },
    "accelerator": "GPU"
  },
  "cells": [
    {
      "cell_type": "markdown",
      "metadata": {
        "id": "view-in-github",
        "colab_type": "text"
      },
      "source": [
        "<a href=\"https://colab.research.google.com/github/gsanc018/fml/blob/master/FML_Ch2Ex.ipynb\" target=\"_parent\"><img src=\"https://colab.research.google.com/assets/colab-badge.svg\" alt=\"Open In Colab\"/></a>"
      ]
    },
    {
      "cell_type": "markdown",
      "metadata": {
        "id": "a2LXHa1k6Hsl",
        "colab_type": "text"
      },
      "source": [
        "#Chapter 2: Financial Data Structures\n",
        "This notebook is dedicated to the exercises of Advances in Financial Machine Learning by Marcos Lopez de Prado. We will use Bitcoin tick data for our study since it is very easy to get a hold of it."
      ]
    },
    {
      "cell_type": "code",
      "metadata": {
        "id": "1GmNNTHIYlqT",
        "colab_type": "code",
        "outputId": "cc1701dc-6f72-4eee-b6ba-5f2ee2159e72",
        "colab": {
          "base_uri": "https://localhost:8080/",
          "height": 204
        }
      },
      "source": [
        "import numpy as np\n",
        "import pandas as pd\n",
        "import matplotlib.pyplot as plt\n",
        "import matplotlib.dates as mdates\n",
        "from datetime import datetime\n",
        "\n",
        "def compute_vwap(df):\n",
        "    q = df['volume']\n",
        "    p = df['price']\n",
        "    vwap = np.sum(p * q) / np.sum(q)\n",
        "    df['vwap'] = vwap\n",
        "    return df\n",
        "  \n",
        "def ohlc(df):\n",
        "    df['open'] = df.price.iloc[0]\n",
        "    df['high'] = df.price.max()\n",
        "    df['low'] = df.price.min()\n",
        "    df['close'] = df.price.iloc[-1]\n",
        "    return df[-1:]\n",
        "  \n",
        "# Raw Tick Data\n",
        "data = pd.read_csv(\"https://api.bitcoincharts.com/v1/csv/krakenUSD.csv.gz\", header = None)\n",
        "data.columns = ['timestamp', 'price', 'volume']\n",
        "data['timestamp'] = pd.to_datetime(data['timestamp'],unit='s')\n",
        "data.tail()"
      ],
      "execution_count": 0,
      "outputs": [
        {
          "output_type": "execute_result",
          "data": {
            "text/html": [
              "<div>\n",
              "<style scoped>\n",
              "    .dataframe tbody tr th:only-of-type {\n",
              "        vertical-align: middle;\n",
              "    }\n",
              "\n",
              "    .dataframe tbody tr th {\n",
              "        vertical-align: top;\n",
              "    }\n",
              "\n",
              "    .dataframe thead th {\n",
              "        text-align: right;\n",
              "    }\n",
              "</style>\n",
              "<table border=\"1\" class=\"dataframe\">\n",
              "  <thead>\n",
              "    <tr style=\"text-align: right;\">\n",
              "      <th></th>\n",
              "      <th>timestamp</th>\n",
              "      <th>price</th>\n",
              "      <th>volume</th>\n",
              "    </tr>\n",
              "  </thead>\n",
              "  <tbody>\n",
              "    <tr>\n",
              "      <th>14756420</th>\n",
              "      <td>2019-06-01 10:20:39</td>\n",
              "      <td>8589.7</td>\n",
              "      <td>0.018661</td>\n",
              "    </tr>\n",
              "    <tr>\n",
              "      <th>14756421</th>\n",
              "      <td>2019-06-01 10:20:40</td>\n",
              "      <td>8589.7</td>\n",
              "      <td>0.018661</td>\n",
              "    </tr>\n",
              "    <tr>\n",
              "      <th>14756422</th>\n",
              "      <td>2019-06-01 10:20:42</td>\n",
              "      <td>8589.7</td>\n",
              "      <td>0.018661</td>\n",
              "    </tr>\n",
              "    <tr>\n",
              "      <th>14756423</th>\n",
              "      <td>2019-06-01 10:20:49</td>\n",
              "      <td>8590.0</td>\n",
              "      <td>0.016518</td>\n",
              "    </tr>\n",
              "    <tr>\n",
              "      <th>14756424</th>\n",
              "      <td>2019-06-01 10:22:21</td>\n",
              "      <td>8592.3</td>\n",
              "      <td>0.005818</td>\n",
              "    </tr>\n",
              "  </tbody>\n",
              "</table>\n",
              "</div>"
            ],
            "text/plain": [
              "                   timestamp   price    volume\n",
              "14756420 2019-06-01 10:20:39  8589.7  0.018661\n",
              "14756421 2019-06-01 10:20:40  8589.7  0.018661\n",
              "14756422 2019-06-01 10:20:42  8589.7  0.018661\n",
              "14756423 2019-06-01 10:20:49  8590.0  0.016518\n",
              "14756424 2019-06-01 10:22:21  8592.3  0.005818"
            ]
          },
          "metadata": {
            "tags": []
          },
          "execution_count": 1
        }
      ]
    },
    {
      "cell_type": "markdown",
      "metadata": {
        "id": "SJUWyXjprik9",
        "colab_type": "text"
      },
      "source": [
        "#Time Bars"
      ]
    },
    {
      "cell_type": "code",
      "metadata": {
        "id": "9D2OrsDbZFXR",
        "colab_type": "code",
        "colab": {}
      },
      "source": [
        "freq = '1D'\n",
        "data_timeidx = data.set_index('timestamp')   \n",
        "data_time_grp = data_timeidx.groupby(pd.Grouper(freq=freq)) \n",
        "#data_time_vwap = data_time_grp.apply(compute_vwap)\n",
        "\n",
        "data_time_ohlc = data_timeidx['price'].groupby(pd.Grouper(freq=freq)).ohlc()\n",
        "vol = data_timeidx['volume'].groupby(pd.Grouper(freq=freq)).sum().round()\n",
        "data_time_ohlc = data_time_ohlc.assign(volume = vol )\n",
        "data_time_ohlc = data_time_ohlc.reset_index()"
      ],
      "execution_count": 0,
      "outputs": []
    },
    {
      "cell_type": "code",
      "metadata": {
        "id": "dyNzUxrfxgKw",
        "colab_type": "code",
        "colab": {}
      },
      "source": [
        "data_time_ohlc.tail(5)"
      ],
      "execution_count": 0,
      "outputs": []
    },
    {
      "cell_type": "code",
      "metadata": {
        "id": "lZ4EtEFCw540",
        "colab_type": "code",
        "colab": {}
      },
      "source": [
        "import altair as alt\n",
        "open_close_color = alt.condition(\"datum.open < datum.close\",\n",
        "                                 alt.value(\"#06982d\"),\n",
        "                                 alt.value(\"#ae1325\"))\n",
        "\n",
        "rule = alt.Chart(data_time_ohlc.tail(5000)).mark_rule().encode(\n",
        "    alt.X(\n",
        "        'timestamp:T'),\n",
        "    alt.Y(\n",
        "        'low',\n",
        "        title='Price',\n",
        "        scale=alt.Scale(zero=False),\n",
        "    ),\n",
        "    alt.Y2('high'),\n",
        "    color=open_close_color\n",
        ")\n",
        "\n",
        "bar = alt.Chart(data_time_ohlc.tail(5000)).mark_bar().encode(\n",
        "    x='timestamp:T',\n",
        "    y='open',\n",
        "    y2='close',\n",
        "    color=open_close_color\n",
        ").interactive(bind_y=False)\n",
        "\n",
        "rule + bar"
      ],
      "execution_count": 0,
      "outputs": []
    },
    {
      "cell_type": "code",
      "metadata": {
        "id": "nl4f61eKlszP",
        "colab_type": "code",
        "colab": {}
      },
      "source": [
        "time_count = data_timeidx['price'].resample('W', label='right').count()\n",
        "len(time_count)\n",
        "#time_count.tail(10)"
      ],
      "execution_count": 0,
      "outputs": []
    },
    {
      "cell_type": "markdown",
      "metadata": {
        "id": "ELPDsDKfGEDP",
        "colab_type": "text"
      },
      "source": [
        "This is 2.1(a). We form tick bars, volume and dollar bars from raw bitcoin tick data."
      ]
    },
    {
      "cell_type": "markdown",
      "metadata": {
        "id": "KHifzyEZvurl",
        "colab_type": "text"
      },
      "source": [
        "#Tick Bars\n"
      ]
    },
    {
      "cell_type": "code",
      "metadata": {
        "id": "GIDs4P8rfixu",
        "colab_type": "code",
        "outputId": "06c4a305-ec56-448b-9c6d-31b6473fdc4a",
        "colab": {
          "base_uri": "https://localhost:8080/",
          "height": 68
        }
      },
      "source": [
        "total_ticks = len(data) #total number of ticks for entire dataset\n",
        "num_ticks_per_bar = 100000#total_ticks / num_time_bars\n",
        "num_ticks_per_bar = round(num_ticks_per_bar, -3) # round to the nearest thousand\n",
        "print('Total ticks:', total_ticks)\n",
        "print('Ticks per bar:', num_ticks_per_bar)\n",
        "data_tick_grp = data.reset_index().assign(grpId=lambda row: row.index // num_ticks_per_bar)\n",
        "print('Number of ticks bars:', len(data_tick_grp.groupby(['grpId'])))\n",
        "\n",
        "data_tick_ohlc =  data_tick_grp.groupby('grpId').apply(lambda x: ohlc(compute_vwap(x)))\n",
        "data_tick_ohlc.index = data_tick_ohlc.index.droplevel()\n",
        "data_tick_ohlc = data_tick_ohlc[~data_tick_ohlc.index.duplicated(keep='first')]\n"
      ],
      "execution_count": 0,
      "outputs": [
        {
          "output_type": "stream",
          "text": [
            "Total ticks: 14756425\n",
            "Ticks per bar: 100000\n",
            "Number of ticks bars: 148\n"
          ],
          "name": "stdout"
        }
      ]
    },
    {
      "cell_type": "code",
      "metadata": {
        "id": "D9jvkMhlGxWr",
        "colab_type": "code",
        "outputId": "5f14ba1a-e40d-4d4e-f4b7-7718b2e9455a",
        "colab": {
          "base_uri": "https://localhost:8080/",
          "height": 320
        }
      },
      "source": [
        "#data_tick_ohlc.index = data_tick_ohlc.index.droplevel()\n",
        "data_tick_ohlc = data_tick_ohlc.set_index('index')\n",
        "data_tick_ohlc.head()"
      ],
      "execution_count": 0,
      "outputs": [
        {
          "output_type": "execute_result",
          "data": {
            "text/html": [
              "<div>\n",
              "<style scoped>\n",
              "    .dataframe tbody tr th:only-of-type {\n",
              "        vertical-align: middle;\n",
              "    }\n",
              "\n",
              "    .dataframe tbody tr th {\n",
              "        vertical-align: top;\n",
              "    }\n",
              "\n",
              "    .dataframe thead th {\n",
              "        text-align: right;\n",
              "    }\n",
              "</style>\n",
              "<table border=\"1\" class=\"dataframe\">\n",
              "  <thead>\n",
              "    <tr style=\"text-align: right;\">\n",
              "      <th></th>\n",
              "      <th>timestamp</th>\n",
              "      <th>price</th>\n",
              "      <th>volume</th>\n",
              "      <th>dollar</th>\n",
              "      <th>grpId</th>\n",
              "      <th>vwap</th>\n",
              "      <th>open</th>\n",
              "      <th>high</th>\n",
              "      <th>low</th>\n",
              "      <th>close</th>\n",
              "    </tr>\n",
              "    <tr>\n",
              "      <th>index</th>\n",
              "      <th></th>\n",
              "      <th></th>\n",
              "      <th></th>\n",
              "      <th></th>\n",
              "      <th></th>\n",
              "      <th></th>\n",
              "      <th></th>\n",
              "      <th></th>\n",
              "      <th></th>\n",
              "      <th></th>\n",
              "    </tr>\n",
              "  </thead>\n",
              "  <tbody>\n",
              "    <tr>\n",
              "      <th>99999</th>\n",
              "      <td>2016-03-13 03:50:50</td>\n",
              "      <td>406.660</td>\n",
              "      <td>0.039500</td>\n",
              "      <td>16.063070</td>\n",
              "      <td>0</td>\n",
              "      <td>364.147117</td>\n",
              "      <td>874.6704</td>\n",
              "      <td>918.05471</td>\n",
              "      <td>175.000</td>\n",
              "      <td>406.660</td>\n",
              "    </tr>\n",
              "    <tr>\n",
              "      <th>199999</th>\n",
              "      <td>2016-06-17 11:24:02</td>\n",
              "      <td>729.384</td>\n",
              "      <td>0.186100</td>\n",
              "      <td>135.738362</td>\n",
              "      <td>1</td>\n",
              "      <td>501.660994</td>\n",
              "      <td>408.7170</td>\n",
              "      <td>776.70900</td>\n",
              "      <td>405.000</td>\n",
              "      <td>729.384</td>\n",
              "    </tr>\n",
              "    <tr>\n",
              "      <th>299999</th>\n",
              "      <td>2016-08-02 18:52:42</td>\n",
              "      <td>578.890</td>\n",
              "      <td>1.046000</td>\n",
              "      <td>605.518940</td>\n",
              "      <td>2</td>\n",
              "      <td>668.698676</td>\n",
              "      <td>729.3840</td>\n",
              "      <td>781.14800</td>\n",
              "      <td>551.494</td>\n",
              "      <td>578.890</td>\n",
              "    </tr>\n",
              "    <tr>\n",
              "      <th>399999</th>\n",
              "      <td>2016-10-30 22:09:46</td>\n",
              "      <td>703.987</td>\n",
              "      <td>1.187800</td>\n",
              "      <td>836.195759</td>\n",
              "      <td>3</td>\n",
              "      <td>604.530400</td>\n",
              "      <td>578.8900</td>\n",
              "      <td>722.01000</td>\n",
              "      <td>479.000</td>\n",
              "      <td>703.987</td>\n",
              "    </tr>\n",
              "    <tr>\n",
              "      <th>499999</th>\n",
              "      <td>2016-12-25 03:02:11</td>\n",
              "      <td>877.320</td>\n",
              "      <td>0.442136</td>\n",
              "      <td>387.894615</td>\n",
              "      <td>4</td>\n",
              "      <td>759.510953</td>\n",
              "      <td>703.9870</td>\n",
              "      <td>923.86900</td>\n",
              "      <td>673.407</td>\n",
              "      <td>877.320</td>\n",
              "    </tr>\n",
              "  </tbody>\n",
              "</table>\n",
              "</div>"
            ],
            "text/plain": [
              "                 timestamp    price    volume  ...       high      low    close\n",
              "index                                          ...                             \n",
              "99999  2016-03-13 03:50:50  406.660  0.039500  ...  918.05471  175.000  406.660\n",
              "199999 2016-06-17 11:24:02  729.384  0.186100  ...  776.70900  405.000  729.384\n",
              "299999 2016-08-02 18:52:42  578.890  1.046000  ...  781.14800  551.494  578.890\n",
              "399999 2016-10-30 22:09:46  703.987  1.187800  ...  722.01000  479.000  703.987\n",
              "499999 2016-12-25 03:02:11  877.320  0.442136  ...  923.86900  673.407  877.320\n",
              "\n",
              "[5 rows x 10 columns]"
            ]
          },
          "metadata": {
            "tags": []
          },
          "execution_count": 16
        }
      ]
    },
    {
      "cell_type": "markdown",
      "metadata": {
        "id": "7JIWx7Y-wT2j",
        "colab_type": "text"
      },
      "source": [
        "#Volume Bars"
      ]
    },
    {
      "cell_type": "code",
      "metadata": {
        "id": "M3cmwiFNwTR6",
        "colab_type": "code",
        "outputId": "dc7293b6-4ecd-44b2-8fa5-660f05ca2dae",
        "colab": {
          "base_uri": "https://localhost:8080/",
          "height": 68
        }
      },
      "source": [
        "data_cm_vol = data.assign(cmVol=data['volume'].cumsum()) \n",
        "total_vol = data_cm_vol.cmVol.values[-1]\n",
        "vol_per_bar = 2e3\n",
        "vol_per_bar = round(vol_per_bar, -2) # round to the nearest hundred\n",
        "print('Total dollars:', total_vol)\n",
        "print('Dollars per bar:', vol_per_bar)\n",
        "data_vol_grp = data_cm_vol.assign(grpId=lambda row: row.cmVol // vol_per_bar)\n",
        "print('Number of volume bars:', len(data_vol_grp.groupby(['grpId'])))\n",
        "data_vol_ohlc =  data_vol_grp.groupby('grpId').apply(lambda x: ohlc(compute_vwap(x)))\n",
        "data_vol_ohlc.index = data_vol_ohlc.index.droplevel()\n",
        "data_vol_ohlc = data_vol_ohlc[~data_vol_ohlc.index.duplicated(keep='first')]"
      ],
      "execution_count": 0,
      "outputs": [
        {
          "output_type": "stream",
          "text": [
            "Total dollars: 5526756.603922224\n",
            "Dollars per bar: 2000.0\n",
            "Number of volume bars: 2764\n"
          ],
          "name": "stdout"
        }
      ]
    },
    {
      "cell_type": "code",
      "metadata": {
        "id": "gIVqYmLpCJgl",
        "colab_type": "code",
        "outputId": "4b9422b9-9289-447a-f31e-805dc60ba86c",
        "colab": {
          "base_uri": "https://localhost:8080/",
          "height": 309
        }
      },
      "source": [
        "data_vol_ohlc.tail()"
      ],
      "execution_count": 0,
      "outputs": [
        {
          "output_type": "execute_result",
          "data": {
            "text/html": [
              "<div>\n",
              "<style scoped>\n",
              "    .dataframe tbody tr th:only-of-type {\n",
              "        vertical-align: middle;\n",
              "    }\n",
              "\n",
              "    .dataframe tbody tr th {\n",
              "        vertical-align: top;\n",
              "    }\n",
              "\n",
              "    .dataframe thead th {\n",
              "        text-align: right;\n",
              "    }\n",
              "</style>\n",
              "<table border=\"1\" class=\"dataframe\">\n",
              "  <thead>\n",
              "    <tr style=\"text-align: right;\">\n",
              "      <th></th>\n",
              "      <th>timestamp</th>\n",
              "      <th>price</th>\n",
              "      <th>volume</th>\n",
              "      <th>dollar</th>\n",
              "      <th>cmVol</th>\n",
              "      <th>grpId</th>\n",
              "      <th>vwap</th>\n",
              "      <th>open</th>\n",
              "      <th>high</th>\n",
              "      <th>low</th>\n",
              "      <th>close</th>\n",
              "    </tr>\n",
              "  </thead>\n",
              "  <tbody>\n",
              "    <tr>\n",
              "      <th>14736999</th>\n",
              "      <td>2019-05-31 11:06:41</td>\n",
              "      <td>8232.3</td>\n",
              "      <td>0.011887</td>\n",
              "      <td>97.858832</td>\n",
              "      <td>5.520000e+06</td>\n",
              "      <td>2759.0</td>\n",
              "      <td>8273.436460</td>\n",
              "      <td>8110.1</td>\n",
              "      <td>8344.9</td>\n",
              "      <td>8110.1</td>\n",
              "      <td>8232.3</td>\n",
              "    </tr>\n",
              "    <tr>\n",
              "      <th>14740510</th>\n",
              "      <td>2019-05-31 13:14:19</td>\n",
              "      <td>8394.0</td>\n",
              "      <td>0.027231</td>\n",
              "      <td>228.578273</td>\n",
              "      <td>5.522000e+06</td>\n",
              "      <td>2760.0</td>\n",
              "      <td>8257.628394</td>\n",
              "      <td>8232.3</td>\n",
              "      <td>8442.1</td>\n",
              "      <td>8165.0</td>\n",
              "      <td>8394.0</td>\n",
              "    </tr>\n",
              "    <tr>\n",
              "      <th>14746493</th>\n",
              "      <td>2019-05-31 18:45:25</td>\n",
              "      <td>8395.6</td>\n",
              "      <td>0.047000</td>\n",
              "      <td>394.593200</td>\n",
              "      <td>5.524000e+06</td>\n",
              "      <td>2761.0</td>\n",
              "      <td>8405.045876</td>\n",
              "      <td>8394.0</td>\n",
              "      <td>8474.0</td>\n",
              "      <td>8295.0</td>\n",
              "      <td>8395.6</td>\n",
              "    </tr>\n",
              "    <tr>\n",
              "      <th>14754050</th>\n",
              "      <td>2019-06-01 05:01:34</td>\n",
              "      <td>8545.0</td>\n",
              "      <td>0.009281</td>\n",
              "      <td>79.303240</td>\n",
              "      <td>5.525999e+06</td>\n",
              "      <td>2762.0</td>\n",
              "      <td>8511.345068</td>\n",
              "      <td>8395.0</td>\n",
              "      <td>8591.1</td>\n",
              "      <td>8387.9</td>\n",
              "      <td>8545.0</td>\n",
              "    </tr>\n",
              "    <tr>\n",
              "      <th>14756424</th>\n",
              "      <td>2019-06-01 10:22:21</td>\n",
              "      <td>8592.3</td>\n",
              "      <td>0.005818</td>\n",
              "      <td>49.986650</td>\n",
              "      <td>5.526757e+06</td>\n",
              "      <td>2763.0</td>\n",
              "      <td>8535.371288</td>\n",
              "      <td>8545.0</td>\n",
              "      <td>8622.5</td>\n",
              "      <td>8462.0</td>\n",
              "      <td>8592.3</td>\n",
              "    </tr>\n",
              "  </tbody>\n",
              "</table>\n",
              "</div>"
            ],
            "text/plain": [
              "                   timestamp   price    volume  ...    high     low   close\n",
              "14736999 2019-05-31 11:06:41  8232.3  0.011887  ...  8344.9  8110.1  8232.3\n",
              "14740510 2019-05-31 13:14:19  8394.0  0.027231  ...  8442.1  8165.0  8394.0\n",
              "14746493 2019-05-31 18:45:25  8395.6  0.047000  ...  8474.0  8295.0  8395.6\n",
              "14754050 2019-06-01 05:01:34  8545.0  0.009281  ...  8591.1  8387.9  8545.0\n",
              "14756424 2019-06-01 10:22:21  8592.3  0.005818  ...  8622.5  8462.0  8592.3\n",
              "\n",
              "[5 rows x 11 columns]"
            ]
          },
          "metadata": {
            "tags": []
          },
          "execution_count": 11
        }
      ]
    },
    {
      "cell_type": "markdown",
      "metadata": {
        "id": "HMKdH-Lz2qrR",
        "colab_type": "text"
      },
      "source": [
        "#Dollar Bars"
      ]
    },
    {
      "cell_type": "code",
      "metadata": {
        "id": "SNqQW5QcfkVJ",
        "colab_type": "code",
        "outputId": "00540dc2-6834-4805-9310-288a410c4924",
        "colab": {
          "base_uri": "https://localhost:8080/",
          "height": 68
        }
      },
      "source": [
        "data['dollar'] = data.price * data.volume\n",
        "data_cm_dollar = data.assign(cmDollar=data['dollar'].cumsum())\n",
        "total_dollars = data_cm_dollar.cmDollar.values[-1]\n",
        "dollars_per_bar = 3e7\n",
        "\n",
        "print('Total dollars:', total_dollars)\n",
        "print('Dollars per bar:', dollars_per_bar)\n",
        "data_dollar_grp = data_cm_dollar.assign(grpId=lambda row: row.cmDollar // dollars_per_bar)\n",
        "print('Number of dollar bars:', len(data_dollar_grp.groupby(['grpId'])))\n",
        "data_dollar_ohlc =  data_dollar_grp.groupby('grpId').apply(lambda x: ohlc(compute_vwap(x)))\n",
        "data_dollar_ohlc.index = data_dollar_ohlc.index.droplevel()\n",
        "data_dollar_ohlc = data_dollar_ohlc[~data_dollar_ohlc.index.duplicated(keep='first')]"
      ],
      "execution_count": 0,
      "outputs": [
        {
          "output_type": "stream",
          "text": [
            "Total dollars: 29045334203.553448\n",
            "Dollars per bar: 30000000.0\n",
            "Number of dollar bars: 969\n"
          ],
          "name": "stdout"
        }
      ]
    },
    {
      "cell_type": "code",
      "metadata": {
        "id": "t1k2nZmc8wCv",
        "colab_type": "code",
        "outputId": "83fa482f-8621-44bb-928d-0a08d557d66b",
        "colab": {
          "base_uri": "https://localhost:8080/",
          "height": 309
        }
      },
      "source": [
        "data_dollar_ohlc.head()"
      ],
      "execution_count": 0,
      "outputs": [
        {
          "output_type": "execute_result",
          "data": {
            "text/html": [
              "<div>\n",
              "<style scoped>\n",
              "    .dataframe tbody tr th:only-of-type {\n",
              "        vertical-align: middle;\n",
              "    }\n",
              "\n",
              "    .dataframe tbody tr th {\n",
              "        vertical-align: top;\n",
              "    }\n",
              "\n",
              "    .dataframe thead th {\n",
              "        text-align: right;\n",
              "    }\n",
              "</style>\n",
              "<table border=\"1\" class=\"dataframe\">\n",
              "  <thead>\n",
              "    <tr style=\"text-align: right;\">\n",
              "      <th></th>\n",
              "      <th>timestamp</th>\n",
              "      <th>price</th>\n",
              "      <th>volume</th>\n",
              "      <th>dollar</th>\n",
              "      <th>cmDollar</th>\n",
              "      <th>grpId</th>\n",
              "      <th>vwap</th>\n",
              "      <th>open</th>\n",
              "      <th>high</th>\n",
              "      <th>low</th>\n",
              "      <th>close</th>\n",
              "    </tr>\n",
              "  </thead>\n",
              "  <tbody>\n",
              "    <tr>\n",
              "      <th>118743</th>\n",
              "      <td>2016-03-25 08:50:20</td>\n",
              "      <td>415.460</td>\n",
              "      <td>8.438000</td>\n",
              "      <td>3505.651480</td>\n",
              "      <td>2.999440e+07</td>\n",
              "      <td>0.0</td>\n",
              "      <td>377.707229</td>\n",
              "      <td>874.6704</td>\n",
              "      <td>918.05471</td>\n",
              "      <td>175.000</td>\n",
              "      <td>415.460</td>\n",
              "    </tr>\n",
              "    <tr>\n",
              "      <th>160998</th>\n",
              "      <td>2016-05-27 01:21:21</td>\n",
              "      <td>457.990</td>\n",
              "      <td>10.192000</td>\n",
              "      <td>4667.834080</td>\n",
              "      <td>5.999893e+07</td>\n",
              "      <td>1.0</td>\n",
              "      <td>439.290361</td>\n",
              "      <td>414.7380</td>\n",
              "      <td>470.00000</td>\n",
              "      <td>405.000</td>\n",
              "      <td>457.990</td>\n",
              "    </tr>\n",
              "    <tr>\n",
              "      <th>194388</th>\n",
              "      <td>2016-06-16 11:26:50</td>\n",
              "      <td>746.710</td>\n",
              "      <td>0.010000</td>\n",
              "      <td>7.467100</td>\n",
              "      <td>8.999995e+07</td>\n",
              "      <td>2.0</td>\n",
              "      <td>590.946050</td>\n",
              "      <td>458.0000</td>\n",
              "      <td>747.46000</td>\n",
              "      <td>450.550</td>\n",
              "      <td>746.710</td>\n",
              "    </tr>\n",
              "    <tr>\n",
              "      <th>230280</th>\n",
              "      <td>2016-06-24 02:49:43</td>\n",
              "      <td>654.654</td>\n",
              "      <td>0.150000</td>\n",
              "      <td>98.198100</td>\n",
              "      <td>1.199980e+08</td>\n",
              "      <td>3.0</td>\n",
              "      <td>699.642116</td>\n",
              "      <td>747.0000</td>\n",
              "      <td>781.14800</td>\n",
              "      <td>551.494</td>\n",
              "      <td>654.654</td>\n",
              "    </tr>\n",
              "    <tr>\n",
              "      <th>279409</th>\n",
              "      <td>2016-07-24 15:59:41</td>\n",
              "      <td>661.180</td>\n",
              "      <td>0.104966</td>\n",
              "      <td>69.401169</td>\n",
              "      <td>1.499996e+08</td>\n",
              "      <td>4.0</td>\n",
              "      <td>661.482101</td>\n",
              "      <td>654.9900</td>\n",
              "      <td>762.24000</td>\n",
              "      <td>610.699</td>\n",
              "      <td>661.180</td>\n",
              "    </tr>\n",
              "  </tbody>\n",
              "</table>\n",
              "</div>"
            ],
            "text/plain": [
              "                 timestamp    price     volume  ...       high      low    close\n",
              "118743 2016-03-25 08:50:20  415.460   8.438000  ...  918.05471  175.000  415.460\n",
              "160998 2016-05-27 01:21:21  457.990  10.192000  ...  470.00000  405.000  457.990\n",
              "194388 2016-06-16 11:26:50  746.710   0.010000  ...  747.46000  450.550  746.710\n",
              "230280 2016-06-24 02:49:43  654.654   0.150000  ...  781.14800  551.494  654.654\n",
              "279409 2016-07-24 15:59:41  661.180   0.104966  ...  762.24000  610.699  661.180\n",
              "\n",
              "[5 rows x 11 columns]"
            ]
          },
          "metadata": {
            "tags": []
          },
          "execution_count": 10
        }
      ]
    },
    {
      "cell_type": "markdown",
      "metadata": {
        "id": "Y1rTQ4u_Id08",
        "colab_type": "text"
      },
      "source": [
        "2.1(b) Count the number of bars produces per week, ie\n",
        "\n",
        "7 Days/Week,\n",
        "168 Hour/Week, or\n",
        " 672 15Mins/Week, or\n",
        "2016 5Mins/Week, or \n",
        "10,080 Mins/Week "
      ]
    },
    {
      "cell_type": "markdown",
      "metadata": {
        "id": "9-Q-JR1s48il",
        "colab_type": "text"
      },
      "source": [
        "# Statistical Properties of Different Bar Types"
      ]
    },
    {
      "cell_type": "code",
      "metadata": {
        "id": "aKKqbi4wNsPQ",
        "colab_type": "code",
        "colab": {}
      },
      "source": [
        "dollar_ohlc_idx = data_dollar_ohlc.set_index('timestamp')\n",
        "dollar_count = dollar_ohlc_idx['close'].resample('W', label='right').count()"
      ],
      "execution_count": 0,
      "outputs": []
    },
    {
      "cell_type": "code",
      "metadata": {
        "id": "YAzoM9_FHe7Q",
        "colab_type": "code",
        "colab": {}
      },
      "source": [
        "tick_ohlc_idx = data_tick_ohlc.set_index('timestamp', inplace=True)\n",
        "tick_count = data_tick_ohlc['close'].resample('W', label='right').count()\n",
        "\n",
        "vol_ohlc_idx = data_vol_ohlc.set_index('timestamp', inplace=True)\n",
        "vol_count = data_vol_ohlc['close'].resample('W', label='right').count()\n",
        "\n",
        "dollar_ohlc_idx = data_dollar_ohlc.set_index('timestamp')\n",
        "dollar_count = dollar_ohlc_idx['close'].resample('W', label='right').count()\n",
        "#dollar_count = dollar_count.reset_index()\n",
        "dollar_count.tail(5)"
      ],
      "execution_count": 0,
      "outputs": []
    },
    {
      "cell_type": "code",
      "metadata": {
        "id": "NQvPejIvARzn",
        "colab_type": "code",
        "colab": {}
      },
      "source": [
        "alt.Chart(vol_count).mark_line().encode(\n",
        "    x='timestamp:T',\n",
        "    y='close'\n",
        ")"
      ],
      "execution_count": 0,
      "outputs": []
    },
    {
      "cell_type": "code",
      "metadata": {
        "id": "qRUZoegW8Ztw",
        "colab_type": "code",
        "colab": {}
      },
      "source": [
        "alt.Chart(dollar_count).mark_line().encode(\n",
        "    x='timestamp:T',\n",
        "    y='close'\n",
        ")"
      ],
      "execution_count": 0,
      "outputs": []
    },
    {
      "cell_type": "markdown",
      "metadata": {
        "id": "w8vJuFgD5DMo",
        "colab_type": "text"
      },
      "source": [
        "Here we plot the weekly bar count of each of the four"
      ]
    },
    {
      "cell_type": "code",
      "metadata": {
        "id": "X5_CgXqFBGDw",
        "colab_type": "code",
        "colab": {}
      },
      "source": [
        "tick_count = pd.DataFrame(tick_count)\n",
        "vol_count = pd.DataFrame(vol_count)\n",
        "dollar_count = pd.DataFrame(dollar_count)\n",
        "\n",
        "source = pd.DataFrame(tick_count,vol_count,dollar_count)"
      ],
      "execution_count": 0,
      "outputs": []
    },
    {
      "cell_type": "code",
      "metadata": {
        "id": "rVXAEIGV5BLk",
        "colab_type": "code",
        "colab": {}
      },
      "source": [
        "tick_count = data_timeidx['price'].resample('W', label='right').count()\n",
        "len(time_count)\n",
        "#time_count.tail(10)"
      ],
      "execution_count": 0,
      "outputs": []
    },
    {
      "cell_type": "markdown",
      "metadata": {
        "id": "hGx-ULDfSjIU",
        "colab_type": "text"
      },
      "source": [
        "Next we compute the serial correlation of returns for the three bar types. What bar method has the **lowest** serial correlation?"
      ]
    },
    {
      "cell_type": "code",
      "metadata": {
        "id": "dT_PEhGXSwdb",
        "colab_type": "code",
        "colab": {}
      },
      "source": [
        ""
      ],
      "execution_count": 0,
      "outputs": []
    }
  ]
}
